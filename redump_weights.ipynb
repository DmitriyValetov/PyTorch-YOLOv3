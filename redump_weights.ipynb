{
 "cells": [
  {
   "cell_type": "code",
   "execution_count": 2,
   "metadata": {},
   "outputs": [],
   "source": [
    "import torch\n",
    "from models import *\n",
    "\n",
    "device = \"cuda\"\n",
    "model_def = \"config/yolov3.cfg\"\n",
    "weights_path = \"weights/yolov3.weights\"\n",
    "model = Darknet(model_def) # .to(device)\n",
    "model.load_darknet_weights(weights_path)\n",
    "\n",
    "torch.save(model.state_dict(), \"checkpoints/test_dump.chkp\")"
   ]
  }
 ],
 "metadata": {
  "kernelspec": {
   "display_name": "Python 3",
   "language": "python",
   "name": "python3"
  },
  "language_info": {
   "codemirror_mode": {
    "name": "ipython",
    "version": 3
   },
   "file_extension": ".py",
   "mimetype": "text/x-python",
   "name": "python",
   "nbconvert_exporter": "python",
   "pygments_lexer": "ipython3",
   "version": "3.8.5"
  }
 },
 "nbformat": 4,
 "nbformat_minor": 4
}
