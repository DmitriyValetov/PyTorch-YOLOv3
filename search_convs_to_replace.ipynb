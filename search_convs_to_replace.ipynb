{
 "cells": [
  {
   "cell_type": "code",
   "execution_count": 1,
   "metadata": {},
   "outputs": [],
   "source": [
    "import torch\n",
    "from models import *\n",
    "\n",
    "model_def = \"config/yolov3.cfg\"\n",
    "weights_path = \"weights/yolov3.weights\"\n",
    "custom_classes_n = 3 "
   ]
  },
  {
   "cell_type": "code",
   "execution_count": 4,
   "metadata": {},
   "outputs": [
    {
     "data": {
      "text/plain": [
       "torch.Size([1, 10647, 8])"
      ]
     },
     "execution_count": 4,
     "metadata": {},
     "output_type": "execute_result"
    }
   ],
   "source": [
    "model = morf_yolov3(\n",
    "    \"config/yolov3.cfg\", \n",
    "    \"weights/yolov3.weights\", \n",
    "    custom_classes_n,\n",
    "    None,\n",
    ")\n",
    "model(torch.randn(1, 3, 416, 416)).shape"
   ]
  },
  {
   "cell_type": "code",
   "execution_count": 3,
   "metadata": {},
   "outputs": [
    {
     "data": {
      "text/plain": [
       "torch.Size([1, 2535, 8])"
      ]
     },
     "execution_count": 3,
     "metadata": {},
     "output_type": "execute_result"
    }
   ],
   "source": [
    "model = morf_yolov3(\n",
    "    \"config/yolov3-tiny.cfg\", \n",
    "    \"weights/yolov3-tiny.weights\", \n",
    "    custom_classes_n,\n",
    "    None,\n",
    ")\n",
    "model(torch.randn(1, 3, 416, 416)).shape"
   ]
  }
 ],
 "metadata": {
  "kernelspec": {
   "display_name": "Python 3",
   "language": "python",
   "name": "python3"
  },
  "language_info": {
   "codemirror_mode": {
    "name": "ipython",
    "version": 3
   },
   "file_extension": ".py",
   "mimetype": "text/x-python",
   "name": "python",
   "nbconvert_exporter": "python",
   "pygments_lexer": "ipython3",
   "version": "3.8.5"
  }
 },
 "nbformat": 4,
 "nbformat_minor": 4
}
